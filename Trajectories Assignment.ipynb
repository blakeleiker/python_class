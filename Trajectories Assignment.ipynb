{
 "cells": [
  {
   "cell_type": "markdown",
   "metadata": {},
   "source": [
    "# Spacecraft Trajectories using Google Earth\n",
    "Python is a useful programming language for performing engineering anaylses. One of the major reasons for this is the large number of readily available open-source libraries. The powerful combination of the open source tools [virtualenv](https://virtualenv.pypa.io/en/stable/) and [pip](https://pypi.org/project/pip/) make it easy to bring in open-source modules found on websites like [GitHub](https://github.com/). This allows the developer to focus on their specific task at hand by relying on modules for much of the heavy lifting. In short, it allows you to be productive.\n",
    "\n",
    "As an example, we will use Python to generate 3D visualizations of spacecraft trajectories in Google Earth. By the end of this assignment, you will have an understanding of how to leverage freely available Python libraries to quickly perform useful engineering analyses with Trick simulation data. \n",
    "\n",
    "### Packages to be used in this assignment\n",
    "* [numpy](http://www.numpy.org/) \n",
    "  * NumPy is the fundamental package for scientific computing with Python\n",
    "* [matplotlib](https://matplotlib.org/)\n",
    "  * Matplotlib is a Python 2D plotting library which produces publication quality figures in a variety of hardcopy formats and interactive environments across platforms.\n",
    "* [pyKML](https://pythonhosted.org/pykml/) \n",
    "  * PyKML is a Python package for creating, parsing, manipulating, and validating KML, a language for encoding and annotating geographic data. Used by Google Earth."
   ]
  },
  {
   "cell_type": "markdown",
   "metadata": {},
   "source": [
    "<style>\n",
    "img {\n",
    "  filter: drop-shadow(4px 4px 3px grey);\n",
    "  align: center;\n",
    "}\n",
    "</style>\n",
    "<center>\n",
    "<img src=\"imgs/trajectories.png\" alt=\"Spacecraft Trajectories\" style=\"width: 500px;\"/>\n",
    "</center>"
   ]
  },
  {
   "cell_type": "markdown",
   "metadata": {},
   "source": [
    "## Problem Statement\n",
    "Let's imagine our customer has come to us with the following request: \n",
    "\n",
    "** \" ** *I have all these spacecraft abort trajectories from your wonderful Trick simulation. I have analyzed them and assesed the spacecraft performance against the requirements we have levied on our vendor. I am putting together a presentation for my management that captures this information in pain-staking detail. However, I'd really just like a simple 3D visualization to help provide some context at the beginning of my slides. How can we do that quickly and cheaply with the data you have provided?* ** \" **\n",
    "\n",
    "Using standard Python modules and the freely available ones listed above, let's respond to this customer's request within a few hours."
   ]
  },
  {
   "cell_type": "markdown",
   "metadata": {},
   "source": [
    "## Environment Setup\n",
    "Download and extract TrajectoriesAssignment.zip to your home folder. Follow these steps to set up your environment.\n",
    "\n",
    "### CentOS\n",
    "```shell\n",
    "sudo yum install python-pip\n",
    "sudo pip install virtualenv\n",
    "virtualenv -p /usr/bin/python2.7 ~/venv\n",
    "source ~/venv/bin/activate\n",
    "cd ~/TrajectoriesAssignment\n",
    "pip install -r requirements.txt \n",
    "cd tests/\n",
    "nosetests\n",
    "```\n",
    "Expected output is the following.\n",
    "```shell\n",
    "AssertionError: 0.0 != 2661.47322 within 4 places\n",
    "\n",
    "----------------------------------------------------------------------\n",
    "Ran 10 tests in 0.007s\n",
    "\n",
    "FAILED (errors=1, failures=5)\n",
    "```\n",
    "\n",
    "\n",
    "### Ubuntu\n",
    "```shell\n",
    "sudo apt-get install python-pip\n",
    "sudo pip install virtualenv\n",
    "virtualenv -p /usr/bin/python2.7 ~/venv\n",
    "source ~/venv/bin/activate\n",
    "cd ~/TrajectoriesAssignment\n",
    "pip install -r requirements.txt \n",
    "cd tests/\n",
    "nosetests\n",
    "```\n",
    "Expected output is the following.\n",
    "```shell\n",
    "AssertionError: 0.0 != 2661.47322 within 4 places\n",
    "\n",
    "----------------------------------------------------------------------\n",
    "Ran 10 tests in 0.007s\n",
    "\n",
    "FAILED (errors=1, failures=5)\n",
    "```"
   ]
  },
  {
   "cell_type": "markdown",
   "metadata": {},
   "source": [
    "### Suggested Approach\n",
    "Break this problem in to pieces that build upon each other. Make a plan for how to keep your code organized. Use the knowledge you have gained thus far in Object Oriented Analysis and Design. This problem can be solved fairly easily if it's broken into manageable modules that build upon each other to form your final application.\n",
    "\n",
    "1. Read the Trick Monte Carlo simulation ASCII data into a Python data structure to enable convenient programmatic manipulation.\n",
    "  * Write a function to read a single trajectory file and create a Python dictionary to hold the trajectory contents.\n",
    "  * Write a function to read all the trajectory files in a given Trick Monte Carlo output data folder into a single dictionary indexed by the run name.\n",
    "2. Create a trajectory container class and the following member functions\n",
    "  * Construct the trajectory from a given ASCII file. Use your function from part 1.\n",
    "  * Provide an optional constructor argument to convert the lat/long to degrees/radians.\n",
    "  * Using numpy, create the following properties for your class: PeakAltitude, AverageLatitude, AverageLongitude\n",
    "3. Create a 3D plot of the altitude, latitude, and longitude of a single trajectory using a \n",
    "   library like matplotlib.\n",
    "4. BONUS: Research pyKML and use it to write out a KML file containing your trajectory trace that you can open in Google Earth."
   ]
  },
  {
   "cell_type": "markdown",
   "metadata": {},
   "source": [
    "## Part 1\n",
    "Your goal for part 1 is to construct a Python dictionary from a Trick ASCII file (CSV). Let's use test driven development to develop your solution. I have provided a set of unit tests below. Develop your solution iteratively by getting each unit test to pass.\n",
    "\n",
    "### Hints\n",
    "* Beware that Trick adds some extra information in the CSV header\n",
    "* Read about [TDD](https://code.tutsplus.com/tutorials/beginning-test-driven-development-in-python--net-30137)\n",
    "* [CSV](https://docs.python.org/2/library/csv.html) module\n",
    "* [OS](https://docs.python.org/2/library/os.html) module\n",
    "* [glob](https://docs.python.org/2/library/glob.html) module for getting a list of files with a given extension\n",
    "\n",
    "### Unit Tests for Part 1\n",
    "``` python\n",
    "from unittest import TestCase\n",
    "import os, sys\n",
    "# Allows us to import our modules\n",
    "sys.path.append(os.path.join('../', 'modules'))\n",
    "\n",
    "class TestPart1(TestCase):\n",
    "    def test_parse_trick_ascii(self):\n",
    "        from TrickSimData import parse_trick_ascii\n",
    "        sim_data = parse_trick_ascii(os.path.join('..', 'sample_data','sample_run.csv'))\n",
    "        self.assertAlmostEquals(sim_data['altitude'][0], 48.08326, 4)\n",
    "        self.assertAlmostEquals(sim_data['latitude'][0], 0.49930, 4)\n",
    "        self.assertAlmostEquals(sim_data['longitude'][0], -1.4068, 4)\n",
    "\n",
    "    def test_parse_single_run(self):\n",
    "        from TrickSimData import SingleRun\n",
    "        sim_data = SingleRun(sim_data_dir=os.path.join('..', 'sample_data'), dr_group=\"sample_run\")\n",
    "        self.assertAlmostEquals(sim_data['altitude'][0], 48.08326, 4)\n",
    "        self.assertAlmostEquals(sim_data['latitude'][0], 0.49930, 4)\n",
    "        self.assertAlmostEquals(sim_data['longitude'][0], -1.4068, 4)\n",
    "\n",
    "    def test_parse_mc_data(self):\n",
    "        from TrickSimData import MonteCarloRun\n",
    "        sim_data = MonteCarloRun(sim_data_dir=os.path.join('..', 'sample_data',\n",
    "                                                           'sample_mc_data'), dr_group=\"sample_run\")\n",
    "        self.assertAlmostEquals(sim_data['RUN_00000']['altitude'][0], 48.08326, 4)\n",
    "        self.assertAlmostEquals(sim_data['RUN_00001']['altitude'][100], 1304.3468, 4)\n",
    "        self.assertAlmostEquals(sim_data['RUN_00000']['latitude'][0], 0.49930, 4)\n",
    "        self.assertAlmostEquals(sim_data['RUN_00000']['longitude'][0], -1.4068, 4)\n",
    "```\n",
    "It is also wise to test test some edge cases. As an example, what happens when you pass a bad file name? See the tests folder included in the TrajectoriesAssignment directory for a complete list of tests that you should try to get passing for part 1."
   ]
  },
  {
   "cell_type": "markdown",
   "metadata": {},
   "source": [
    "## Part 2\n",
    "Your goal for part 2 is to create a trajectory container class called Trajectory. This container class should take some constructor arguments and implement a few class [properties](https://www.programiz.com/python-programming/property). Here's a set of tests to excercise your class. See the tests folder included in the TrajectoriesAssignment directory for a complete list of tests that you should try to get passing for part 2.\n",
    "\n",
    "### Hints\n",
    "* [numpy](www.numpy.org/) module for max, min, and mean\n",
    "* [math](https://docs.python.org/2/library/math.html) module for math.degrees() and math.radians()\n",
    "\n",
    "### Unit Tests for Part 2\n",
    "``` python\n",
    "from unittest import TestCase\n",
    "import os, sys\n",
    "# Allows us to import our modules\n",
    "sys.path.append(os.path.join('../', 'modules'))\n",
    "\n",
    "class TestPart2(TestCase):\n",
    "    def test_AverageLatitude(self):\n",
    "        from TrickSimData import SingleRun\n",
    "        from TrajectoryUtils import Trajectory\n",
    "        sim_data = SingleRun(sim_data_dir=os.path.join('..', 'sample_data'), dr_group=\"sample_run\")\n",
    "        test_trajectory = Trajectory(name=\"RUN_1\",\n",
    "                              alt= sim_data[\"altitude\"],\n",
    "                              lat= sim_data[\"latitude\"],\n",
    "                              lon= sim_data[\"longitude\"],\n",
    "                              convert_degrees=True)\n",
    "        self.assertAlmostEquals(test_trajectory.AverageLatitude, 28.6133, 4)\n",
    "\n",
    "    def test_AverageLongitude(self):\n",
    "        from TrickSimData import SingleRun\n",
    "        from TrajectoryUtils import Trajectory\n",
    "        sim_data = SingleRun(sim_data_dir=os.path.join('..', 'sample_data'), dr_group=\"sample_run\")\n",
    "        test_trajectory = Trajectory(name=\"RUN_1\",\n",
    "                              alt= sim_data[\"altitude\"],\n",
    "                              lat= sim_data[\"latitude\"],\n",
    "                              lon= sim_data[\"longitude\"],\n",
    "                              convert_degrees=True)\n",
    "        self.assertAlmostEquals(test_trajectory.AverageLongitude, -80.6000, 4)\n",
    "\n",
    "    def test_PeakAlititude(self):\n",
    "        from TrickSimData import SingleRun\n",
    "        from TrajectoryUtils import Trajectory\n",
    "        sim_data = SingleRun(sim_data_dir=os.path.join('..', 'sample_data'), dr_group=\"sample_run\")\n",
    "        test_trajectory = Trajectory(name=\"RUN_1\",\n",
    "                              alt= sim_data[\"altitude\"],\n",
    "                              lat= sim_data[\"latitude\"],\n",
    "                              lon= sim_data[\"longitude\"])\n",
    "        self.assertAlmostEquals(test_trajectory.PeakAltitude, 2661.47322, 4)\n",
    "```"
   ]
  },
  {
   "cell_type": "markdown",
   "metadata": {},
   "source": [
    "## Part 3\n",
    "Plotting using matplotlib is pretty straight-forward usually. Throwing something together can be done quickly. However, it can take some time to tweak your plots to get them just how you want them. The usual workflow is to rely heavily on the matplotlib examples, Google searches, and Stack Overflow.\n",
    "\n",
    "You can find a fantastic matplotlib tutorial here.\n",
    "\n",
    "And, if that wasn't enough, here's some starter code relevant to this assignment. Experiment with this... for one, those axes look terrible!"
   ]
  },
  {
   "cell_type": "code",
   "execution_count": 7,
   "metadata": {
    "scrolled": false
   },
   "outputs": [],
   "source": [
    "%matplotlib inline\n",
    "import sys, os\n",
    "import pylab as plt\n",
    "from mpl_toolkits import mplot3d"
   ]
  },
  {
   "cell_type": "code",
   "execution_count": 8,
   "metadata": {},
   "outputs": [],
   "source": [
    "from modules.TrickSimData import MonteCarloRun\n",
    "from modules.TrajectoryUtils import TrajectoryBundle"
   ]
  },
  {
   "cell_type": "code",
   "execution_count": 9,
   "metadata": {},
   "outputs": [
    {
     "data": {
      "image/png": "[encoded data removed]",
      "text/plain": [
       "<Figure size 432x288 with 1 Axes>"
      ]
     },
     "metadata": {},
     "output_type": "display_data"
    }
   ],
   "source": [
    "sim_data_dir = os.path.abspath(os.path.join('sample_data', 'sample_mc_data'))\n",
    "sim_data = MonteCarloRun(sim_data_dir=sim_data_dir, dr_group=\"sample_run\")\n",
    "traj_bundle = TrajectoryBundle(trajectory_data=sim_data)\n",
    "fig = plt.figure()\n",
    "ax = fig.add_subplot(111, projection='3d')\n",
    "for traj in traj_bundle:\n",
    "    ax.plot(traj.Latitudes, traj.Longitudes, traj.Altitudes)"
   ]
  },
  {
   "cell_type": "markdown",
   "metadata": {},
   "source": [
    "## Part 4\n",
    "Perhaps surprisingly, visualizing these trajectories using Google Earth is not so hard. All that we need to do is generate a KML file from our trajectory and then open that file using Google Earth. That begs the question: How do we write a KML file?\n",
    "\n",
    "The key to that is a library called [pyKML](https://pythonhosted.org/pykml/). Follow the link to this [example](). Spend a little time reading the library's online documentation. It is helpful to realize that pyKML is a just special flavor of XML that is commonly used in mapping software.\n",
    "\n",
    "Finally, it helps to know where you're going. A snippet from a working trajectory KML file is provided below. Your code should try to produce a file like this one. Hint: use one Placemark element per trajectory."
   ]
  },
  {
   "cell_type": "markdown",
   "metadata": {},
   "source": [
    "``` xml\n",
    "<kml xmlns:atom=\"http://www.w3.org/2005/Atom\" xmlns:gx=\"http://www.google.com/kml/ext/2.2\" xmlns=\"http://www.opengis.net/kml/2.2\">\n",
    "  <Document>\n",
    "    <name>trajectories.kml</name>\n",
    "    <Placemark>\n",
    "      <name>RUN_00000</name>\n",
    "      <visibility>1</visibility>\n",
    "      <description></description>\n",
    "      <Style>\n",
    "        <LineStyle>\n",
    "          <color>FF1400FF</color>\n",
    "          <width>2.0</width>\n",
    "        </LineStyle>\n",
    "        <PolyStyle>\n",
    "          <color>00ffffff</color>\n",
    "        </PolyStyle>\n",
    "      </Style>\n",
    "      <Polygon>\n",
    "        <extrude>0</extrude>\n",
    "        <altitudeMode>absolute</altitudeMode>\n",
    "        <outerBoundaryIs>\n",
    "          <extrude>0</extrude>\n",
    "          <LinearRing>\n",
    "            <extrude>0</extrude>\n",
    "            <tessellate>0</tessellate>\n",
    "            <altitudeMode>absolute</altitudeMode>\n",
    "            <coordinates>-80.60412530197159,28.608295919486633,48.08326751005924\n",
    "-80.60412530283247,28.6082959186076,48.13694587766073\n",
    "-80.60412530362309,28.60829591707697,48.22038344799937\n",
    " <!--         ...            -->\n",
    " <!-- Many More Co-ordinates -->\n",
    " <!--         ...            -->\n",
    "-80.60030017382053,28.617846585087722,0.6681277604836572\n",
    "-80.60030003674713,28.61785412574746,-0.06469062573816126\n",
    "</coordinates>\n",
    "          </LinearRing>\n",
    "        </outerBoundaryIs>\n",
    "      </Polygon>\n",
    "    </Placemark>\n",
    "\n",
    " <!-- You can add more trajectories by adding more Placemark elements -->\n",
    "\n",
    "    <LookAt>\n",
    "      <longitude>-80.59823281189256</longitude>\n",
    "      <latitude>28.61213482085703</latitude>\n",
    "      <heading>-20.0</heading>\n",
    "      <tilt>82.5</tilt>\n",
    "      <range>9315.156288943628</range>\n",
    "      <gx:altitudeMode>absolute</gx:altitudeMode>\n",
    "    </LookAt>\n",
    "  </Document>\n",
    "</kml>\n",
    "```"
   ]
  },
  {
   "cell_type": "markdown",
   "metadata": {},
   "source": [
    "## Conclusion\n",
    "By now you should be looking at your trajectories in Google Earth. If not, and you would like some help, contact michael.moore@nasa.gov. It is not hard to imagine how to extend your code to do even more useful analysis using matplotlib and/or Google Earth. Python, and the freely available modules you get access to using pip, are amazing tools for a scientist or engineer. It allows the developer to quickly stitch together custom and freely available modules to compose a solution to a practical problem. The interactive nature of Python lends itself to  experimentation and rapid prototyping. Hopefully this assignment has both challenged and inspired you to learn more about Python. You won't regret it!"
   ]
  },
  {
   "cell_type": "markdown",
   "metadata": {},
   "source": [
    "### Special Thanks\n",
    "Thanks to these individuals for their help in putting together this material:\n",
    "* Matthew Scarborough\n",
    "* Scott Fennel\n",
    "* John Penn"
   ]
  },
  {
   "cell_type": "markdown",
   "metadata": {},
   "source": [
    "## References\n",
    "Here's a list of useful resources for more information.\n",
    "\n",
    "1. [Ten Famous Python Applications](http://www.hartmannsoftware.com/Blog/Articles_from_Software_Fans/Most-Famous-Software-Programs-Written-in-Python)\n",
    "2. [The Incredible Growth of Python](https://stackoverflow.blog/2017/09/06/incredible-growth-python/)\n",
    "3. [Why Test Driven Development](https://medium.com/@gondy/the-importance-of-test-driven-development-f80b0d02edd8)\n",
    "4. [How to do Test Driven Development in Python](https://code.tutsplus.com/tutorials/beginning-test-driven-development-in-python--net-30137)\n",
    "5. [Python IDE Options](http://www.it4nextgen.com/7-best-ides-for-python-programming-in-2018/)\n",
    "6. [Virtual Environments](https://virtualenv.pypa.io)\n",
    "7. [Pip](https://pypi.org/project/pip/)\n",
    "8. [General Python Tutorial](http://www.scipy-lectures.org/intro/language/python_language.html)\n",
    "8. [Modules and Code Re-Use](http://www.scipy-lectures.org/intro/language/reusing_code.html)\n",
    "9. [Object Oriented Programming](http://www.scipy-lectures.org/intro/language/oop.html)\n",
    "10. [Great Matplotlib Tutorial]()\n",
    "11. [Jupyter Notebook Tutorial]()"
   ]
  }
 ],
 "metadata": {
  "kernelspec": {
   "display_name": "Python 2",
   "language": "python",
   "name": "python2"
  },
  "language_info": {
   "codemirror_mode": {
    "name": "ipython",
    "version": 2
   },
   "file_extension": ".py",
   "mimetype": "text/x-python",
   "name": "python",
   "nbconvert_exporter": "python",
   "pygments_lexer": "ipython2",
   "version": "2.7.15"
  },
  "toc": {
   "base_numbering": 1,
   "nav_menu": {},
   "number_sections": true,
   "sideBar": true,
   "skip_h1_title": false,
   "title_cell": "Table of Contents",
   "title_sidebar": "Contents",
   "toc_cell": false,
   "toc_position": {},
   "toc_section_display": true,
   "toc_window_display": false
  }
 },
 "nbformat": 4,
 "nbformat_minor": 2
}
